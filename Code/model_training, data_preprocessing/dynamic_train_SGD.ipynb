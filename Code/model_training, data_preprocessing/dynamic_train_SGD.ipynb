{
 "cells": [
  {
   "cell_type": "code",
   "execution_count": 153,
   "metadata": {},
   "outputs": [],
   "source": [
    "import torch\n",
    "import torch.nn as nn\n",
    "import os\n",
    "import numpy as np\n",
    "import matplotlib.pyplot as plt\n",
    "\n",
    "from torch.utils.data import Dataset\n",
    "from torch.utils.data import DataLoader"
   ]
  },
  {
   "cell_type": "code",
   "execution_count": 154,
   "metadata": {},
   "outputs": [],
   "source": [
    "# custom dataset class\n",
    "class npyDataset(Dataset):\n",
    "    def __init__(self, dataset_path):\n",
    "        self.Jlist = [os.path.join(\"np_J\", x) for x in os.listdir(dataset_path + r\"\\np_J\")]\n",
    "        self.Zlist = [os.path.join(\"np_Z\", x) for x in os.listdir(dataset_path + r\"\\np_Z\")]\n",
    "        self.total_list = self.Jlist + self.Zlist\n",
    "        self.x = [np.load(os.path.join(dataset_path, k)) for k in self.total_list]              # contain all dataset \n",
    "        self.j = np.zeros(len(self.Jlist))  # 0 for J\n",
    "        self.z = np.ones(len(self.Zlist))   # 1 for Z\n",
    "        self.y = np.concatenate((self.j, self.z))                                               # contain all label\n",
    "        \n",
    "    def __len__(self):\n",
    "        return len(self.x)\n",
    "    \n",
    "    def __getitem__(self, idx):\n",
    "        torch_x = torch.from_numpy(self.x[idx]).float()\n",
    "        torch_y = torch.tensor(self.y[idx]).float().reshape(1)\n",
    "        return torch_x, torch_y"
   ]
  },
  {
   "cell_type": "code",
   "execution_count": 155,
   "metadata": {},
   "outputs": [],
   "source": [
    "trainset = npyDataset(r\"C:\\Users\\bell9\\Desktop\\deep\\train\")\n",
    "validset = npyDataset(r\"C:\\Users\\bell9\\Desktop\\deep\\valid\")"
   ]
  },
  {
   "cell_type": "code",
   "execution_count": 156,
   "metadata": {},
   "outputs": [],
   "source": [
    "class Dynamic_predict(nn.Module):\n",
    "    def __init__(self):\n",
    "        super(Dynamic_predict, self).__init__()\n",
    "        self.lstm = nn.LSTM(input_size = 42, hidden_size = 10, batch_first = True, num_layers = 1)\n",
    "        self.fc = nn.Linear(10, 1)\n",
    "        self.sigmoid = nn.Sigmoid()\n",
    "        self.h = None\n",
    "        self.c = None\n",
    "\n",
    "    def forward(self, x):\n",
    "        \"\"\"\n",
    "        LSTM > FC_layer > Sigmoid\n",
    "        \"\"\"\n",
    "        h0 = torch.zeros(1, 1, 10)\n",
    "        c0 = torch.zeros(1, 1, 10)\n",
    "        out, (h, c)= self.lstm(x, (h0, c0))\n",
    "        #print(out[-1].shape)\n",
    "        out = self.fc(out[-1][-1])\n",
    "        return self.sigmoid(out)\n",
    "\n",
    "    def test_print(self, x):\n",
    "        \"\"\"\n",
    "        input : 42 length hand coordinate\n",
    "        output : corresponding Alphabet\n",
    "\n",
    "        # only for inference\n",
    "        \"\"\"\n",
    "        x = np.array(x)\n",
    "        hand_x = x[:, :21]\n",
    "        hand_y = x[:, 21:]\n",
    "        hand_x = (hand_x - np.min(hand_x)) / (np.max(hand_x) - np.min(hand_x))\n",
    "        hand_y = (hand_y - np.min(hand_y)) / (np.max(hand_y) - np.min(hand_y))\n",
    "        cordinate = np.concatenate((hand_x, hand_y))\n",
    "        cordinate = np.reshape(cordinate, (1, -1, 42))\n",
    "        cordinate = torch.from_numpy(cordinate)\n",
    "        with torch.no_grad():\n",
    "            out = self.forward(cordinate)\n",
    "            if out < 0.5:\n",
    "                return \"J\"\n",
    "            else :\n",
    "                return \"Z\""
   ]
  },
  {
   "cell_type": "code",
   "execution_count": 157,
   "metadata": {},
   "outputs": [],
   "source": [
    "model = Dynamic_predict()"
   ]
  },
  {
   "cell_type": "code",
   "execution_count": 158,
   "metadata": {},
   "outputs": [],
   "source": [
    "# just two classfying, so use Binary Cross Entropy\n",
    "criterion = nn.BCELoss()\n",
    "optimizer = torch.optim.Adam(model.parameters(), lr = 0.0098)"
   ]
  },
  {
   "cell_type": "code",
   "execution_count": 159,
   "metadata": {},
   "outputs": [],
   "source": [
    "def train(model, train_dataset, valid_dataset, epochs, criterion, optimizer, train_loss, valid_loss):\n",
    "    for epoch in range(epochs):\n",
    "        model.train()\n",
    "        t_loss = 0.0\n",
    "        for i in range(len(train_dataset)):\n",
    "            optimizer.zero_grad()        \n",
    "            data, label = train_dataset[i]\n",
    "            data = data.reshape((1, -1, 42))\n",
    "            out = model(data)\n",
    "            loss = criterion(out, label)\n",
    "            loss.backward()\n",
    "            optimizer.step()\n",
    "            t_loss += loss.item()\n",
    "        t_loss = t_loss / len(train_dataset)\n",
    "        print(\"\\nTraining loss :\", t_loss)\n",
    "        v_loss = print_val(model, valid_dataset, criterion)\n",
    "        train_loss.append(t_loss)\n",
    "        valid_loss.append(v_loss)\n",
    "\n",
    "\n",
    "def print_val(model, dataset, criterion):\n",
    "    model.eval()\n",
    "    total = len(dataset)\n",
    "    v_loss = 0.0\n",
    "    count = 0\n",
    "    for i in range(len(dataset)):\n",
    "        data, label = dataset[i]\n",
    "        data = data.reshape((1, -1, 42))\n",
    "        out = model(data)\n",
    "        if out < 0.5 and label == 0:\n",
    "            count += 1\n",
    "        if out >= 0.5 and label == 1:\n",
    "            count += 1\n",
    "        loss = criterion(out, label)\n",
    "        v_loss += loss.item()\n",
    "    v_loss = v_loss / len(dataset)\n",
    "    print(\"Valid loss : \", v_loss)\n",
    "    print('Accuracy of the network on the %d test images: %d %%' % (total,\n",
    "        100.0 * count / total))    \n",
    "    return v_loss\n",
    "            \n",
    "    \n",
    "    "
   ]
  },
  {
   "cell_type": "code",
   "execution_count": 160,
   "metadata": {},
   "outputs": [
    {
     "name": "stdout",
     "output_type": "stream",
     "text": [
      "\n",
      "Training loss : 0.5096081756265955\n",
      "Valid loss :  1.1343242439130943\n",
      "Accuracy of the network on the 60 test images: 46 %\n",
      "\n",
      "Training loss : 0.7916468965947329\n",
      "Valid loss :  0.80505700558424\n",
      "Accuracy of the network on the 60 test images: 46 %\n",
      "\n",
      "Training loss : 0.37086958559838373\n",
      "Valid loss :  0.8481583667298158\n",
      "Accuracy of the network on the 60 test images: 46 %\n",
      "\n",
      "Training loss : 0.21941478243425264\n",
      "Valid loss :  0.48831005295117696\n",
      "Accuracy of the network on the 60 test images: 76 %\n",
      "\n",
      "Training loss : 0.1734556336910581\n",
      "Valid loss :  0.14184352004279693\n",
      "Accuracy of the network on the 60 test images: 95 %\n",
      "\n",
      "Training loss : 0.11057990451516518\n",
      "Valid loss :  0.04041787915242215\n",
      "Accuracy of the network on the 60 test images: 100 %\n",
      "\n",
      "Training loss : 0.0593707298897394\n",
      "Valid loss :  0.02818792564794421\n",
      "Accuracy of the network on the 60 test images: 100 %\n",
      "\n",
      "Training loss : 0.04923216354139336\n",
      "Valid loss :  0.022263094736263155\n",
      "Accuracy of the network on the 60 test images: 100 %\n",
      "\n",
      "Training loss : 0.04433205102256794\n",
      "Valid loss :  0.01831038558545212\n",
      "Accuracy of the network on the 60 test images: 100 %\n",
      "\n",
      "Training loss : 0.04099247275603626\n",
      "Valid loss :  0.015518334368243814\n",
      "Accuracy of the network on the 60 test images: 100 %\n"
     ]
    }
   ],
   "source": [
    "train_loss = []\n",
    "valid_loss = []\n",
    "\n",
    "train(model, trainset, validset, 10, criterion, optimizer, train_loss, valid_loss)"
   ]
  },
  {
   "cell_type": "code",
   "execution_count": 161,
   "metadata": {},
   "outputs": [],
   "source": [
    "# model save\n",
    "\n",
    "checkpoint_dir = './pt-checkpoints'\n",
    "os.makedirs(checkpoint_dir, exist_ok=True)\n",
    "pt_path = os.path.join(checkpoint_dir, \"last_model.pt\")\n",
    "torch.save(model.state_dict(), pt_path)"
   ]
  },
  {
   "cell_type": "code",
   "execution_count": 162,
   "metadata": {},
   "outputs": [
    {
     "data": {
      "image/png": "[encoded data removed]",
      "text/plain": [
       "<Figure size 640x480 with 1 Axes>"
      ]
     },
     "metadata": {},
     "output_type": "display_data"
    }
   ],
   "source": [
    "# loss visualization\n",
    "\n",
    "epochs = range(10)\n",
    "plt.plot(epochs, train_loss, label = \"train_loss\")\n",
    "plt.plot(epochs, valid_loss, label = \"valid_loss\")\n",
    "plt.title(\"Loss comparison\")\n",
    "plt.legend()\n",
    "plt.show()\n"
   ]
  }
 ],
 "metadata": {
  "kernelspec": {
   "display_name": "deep",
   "language": "python",
   "name": "python3"
  },
  "language_info": {
   "codemirror_mode": {
    "name": "ipython",
    "version": 3
   },
   "file_extension": ".py",
   "mimetype": "text/x-python",
   "name": "python",
   "nbconvert_exporter": "python",
   "pygments_lexer": "ipython3",
   "version": "3.7.15 (default, Nov 24 2022, 18:44:54) [MSC v.1916 64 bit (AMD64)]"
  },
  "orig_nbformat": 4,
  "vscode": {
   "interpreter": {
    "hash": "f3da25e9ca0ccbed814e59f1a80a40939f52a1189826e18fd31699097ec7d0ec"
   }
  }
 },
 "nbformat": 4,
 "nbformat_minor": 2
}
