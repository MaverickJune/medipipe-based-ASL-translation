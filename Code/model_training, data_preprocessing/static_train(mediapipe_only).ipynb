{
 "cells": [
  {
   "cell_type": "code",
   "execution_count": 12,
   "metadata": {},
   "outputs": [],
   "source": [
    "import torch\n",
    "import torch.nn as nn\n",
    "import os\n",
    "import numpy as np\n",
    "import matplotlib.pyplot as plt\n",
    "\n",
    "\n",
    "from torch.utils.data import Dataset\n",
    "from torch.utils.data import DataLoader"
   ]
  },
  {
   "cell_type": "code",
   "execution_count": 13,
   "metadata": {},
   "outputs": [],
   "source": [
    "class npyDataset(Dataset):\n",
    "    def __init__(self, path):\n",
    "        super(npyDataset, self).__init__()\n",
    "        \n",
    "        self.x_list = []\n",
    "        self.y_list = []\n",
    "        i = 0\n",
    "\n",
    "        # in loop, load label and .npy\n",
    "        for dir in os.listdir(path):\n",
    "            for np_ in os.listdir(os.path.join(path, dir)):\n",
    "                self.x_list.append(np.load(os.path.join(path, dir, np_)))\n",
    "                self.y_list.append(i)\n",
    "            i += 1\n",
    "        assert len(self.x_list) == len(self.y_list)\n",
    "        \n",
    "    def __len__(self):\n",
    "        return len(self.x_list)\n",
    "    \n",
    "\n",
    "    def __getitem__(self, idx):\n",
    "        torch_x = torch.from_numpy(self.x_list[idx]).float()\n",
    "        torch_y = self.y_list[idx]\n",
    "        return torch_x, torch_y"
   ]
  },
  {
   "cell_type": "code",
   "execution_count": 32,
   "metadata": {},
   "outputs": [],
   "source": [
    "\n",
    "#for each directory, make dataset\n",
    "data0 = npyDataset(r'C:\\Users\\bell9\\Desktop\\deep\\static_dataset\\static_data0\\data0np')\n",
    "data1 = npyDataset(r'C:\\Users\\bell9\\Desktop\\deep\\static_dataset\\static_data1\\data1np')\n",
    "data2 = npyDataset(r'C:\\Users\\bell9\\Desktop\\deep\\static_dataset\\static_data2\\data2np')\n",
    "data3 = npyDataset(r'C:\\Users\\bell9\\Desktop\\deep\\static_dataset\\static_data3\\data3np')\n",
    "data4 = npyDataset(r'C:\\Users\\bell9\\Desktop\\deep\\static_dataset\\static_data4\\data4np')"
   ]
  },
  {
   "cell_type": "code",
   "execution_count": 33,
   "metadata": {},
   "outputs": [],
   "source": [
    "# concatenate all dataset\n",
    "entire_dataset = torch.utils.data.ConcatDataset([data0, data1, data2, data3, data4])"
   ]
  },
  {
   "cell_type": "code",
   "execution_count": 34,
   "metadata": {},
   "outputs": [
    {
     "name": "stdout",
     "output_type": "stream",
     "text": [
      "17138\n",
      "24\n"
     ]
    }
   ],
   "source": [
    "# check dataset size and label completeness\n",
    "label_set = set()\n",
    "print(len(entire_dataset))\n",
    "for i in range(len(entire_dataset)):\n",
    "    _, label = entire_dataset[i]\n",
    "    label_set.add(label)\n",
    "print(len(label_set))"
   ]
  },
  {
   "cell_type": "code",
   "execution_count": 35,
   "metadata": {},
   "outputs": [],
   "source": [
    "#dataset split\n",
    "trainset, validset = torch.utils.data.random_split(entire_dataset, [12000, 5138])"
   ]
  },
  {
   "cell_type": "code",
   "execution_count": 36,
   "metadata": {},
   "outputs": [
    {
     "name": "stdout",
     "output_type": "stream",
     "text": [
      "Training data size : 12000\n",
      "Validation data size : 5138\n"
     ]
    }
   ],
   "source": [
    "batch_size = 256\n",
    "\n",
    "trainloader = torch.utils.data.DataLoader(trainset, batch_size=batch_size, shuffle=True)\n",
    "print(\"Training data size : {}\".format(len(trainset)))\n",
    "\n",
    "validloader = torch.utils.data.DataLoader(validset, batch_size=batch_size, shuffle=True)\n",
    "print(\"Validation data size : {}\".format(len(validset)))\n"
   ]
  },
  {
   "cell_type": "code",
   "execution_count": 62,
   "metadata": {},
   "outputs": [],
   "source": [
    "class static_model(nn.Module):\n",
    "    def __init__(self):\n",
    "        super(static_model, self).__init__()\n",
    "        self.fc1 = nn.Linear(42, 32)\n",
    "        self.relu = nn.ReLU(True)\n",
    "        self.fc2 = nn.Linear(32, 24)\n",
    "        self.alphabet_index = [\"A\", \"B\", \"C\", \"D\", \"E\", \"F\", \"G\", \"H\", \"I\", \"K\", \"L\", \"M\", \"N\", \"O\", \"P\", \"Q\", \"R\", \"S\", \"T\", \"U\", \"V\", \"W\", \"X\", \"Y\"]        \n",
    "\n",
    "    def forward(self, x):\n",
    "        out = self.fc1(x)\n",
    "        out = self.relu(out)\n",
    "        out = self.fc2(out)\n",
    "        return out\n",
    "    \n",
    "    # only for inference\n",
    "    def test_print(self, x):\n",
    "        \"\"\"\n",
    "        input : 42 length hand coordinate\n",
    "        output : corresponding Alphabet\n",
    "        \"\"\"\n",
    "        with torch.no_grad():\n",
    "            cord_numpy = np.array(x)\n",
    "            cordinate_x = cord_numpy[:21]\n",
    "            cordinate_y = cord_numpy[21:]\n",
    "            cordinate_x = (cordinate_x - cordinate_x[0]) / (np.max(cordinate_x) - np.min(cordinate_x))\n",
    "            cordinate_y = (cordinate_y - cordinate_y[0]) / (np.max(cordinate_y) - np.min(cordinate_y))\n",
    "            cordinate = np.concatenate((cordinate_x, cordinate_y))\n",
    "            cord = torch.from_numpy(cordinate).reshape((1, -1))\n",
    "            out = self.forward(cord)\n",
    "            _, predicted = torch.max(out, 1)\n",
    "        return self.alphabet_index[predicted]\n",
    "\n",
    "            "
   ]
  },
  {
   "cell_type": "code",
   "execution_count": 63,
   "metadata": {},
   "outputs": [],
   "source": [
    "model = static_model()"
   ]
  },
  {
   "cell_type": "code",
   "execution_count": 64,
   "metadata": {},
   "outputs": [],
   "source": [
    "criterion = nn.CrossEntropyLoss()\n",
    "optimizer = torch.optim.Adam(model.parameters(), lr = 0.011)"
   ]
  },
  {
   "cell_type": "code",
   "execution_count": 65,
   "metadata": {},
   "outputs": [],
   "source": [
    "def train(model, epochs, train_loader, valid_loader, criterion, optimizer, train_loss, valid_loss):\n",
    "    for epoch in range(epochs):\n",
    "        model.train()\n",
    "        t_loss = 0.0\n",
    "        for i, data in enumerate(train_loader):\n",
    "            optimizer.zero_grad()        \n",
    "            data, label = data\n",
    "            x = model(data)\n",
    "            loss = criterion(x, label)\n",
    "            loss.backward()\n",
    "            optimizer.step()\n",
    "            t_loss += loss.item()\n",
    "        t_loss = t_loss / len(train_loader)\n",
    "        if epoch % 20 == 0:\n",
    "            print_ = True\n",
    "            print(\"Train_loss :\", t_loss)\n",
    "        v_loss = print_accuracy(model, valid_loader, criterion, print_)\n",
    "        train_loss.append(t_loss)\n",
    "        valid_loss.append(v_loss)\n",
    "        print_ = False\n",
    "\n",
    "\n",
    "# function to calculate accuracy\n",
    "def print_accuracy(model, dataloader, criterion, printnig):\n",
    "    model.eval()\n",
    "    v_loss = 0\n",
    "    correct = 0\n",
    "    total = 0\n",
    "    with torch.no_grad():\n",
    "        for data in dataloader:\n",
    "            x, labels = data        \n",
    "            outputs = model(x)\n",
    "            _, predicted = torch.max(outputs.data, 1)\n",
    "            loss = criterion(outputs, labels)\n",
    "            total += labels.size(0)\n",
    "            correct += (predicted == labels).sum().item()\n",
    "            v_loss += loss.item()\n",
    "        v_loss = v_loss / len(dataloader)\n",
    "    if printnig:\n",
    "        print(\"Valid_loss :\", v_loss)\n",
    "        print('Accuracy of the network on the %d test images: %d %%' % (total,\n",
    "            100.0 * correct / total))  \n",
    "    return v_loss\n",
    "    \n",
    "    "
   ]
  },
  {
   "cell_type": "code",
   "execution_count": 66,
   "metadata": {},
   "outputs": [
    {
     "name": "stdout",
     "output_type": "stream",
     "text": [
      "Train_loss : 2.233104540946636\n",
      "Valid_loss : 1.2660611413774037\n",
      "Accuracy of the network on the 5138 test images: 64 %\n",
      "Train_loss : 0.06486410156209418\n",
      "Valid_loss : 0.07555895156803585\n",
      "Accuracy of the network on the 5138 test images: 97 %\n",
      "Train_loss : 0.030100906941484897\n",
      "Valid_loss : 0.049300030760821845\n",
      "Accuracy of the network on the 5138 test images: 99 %\n",
      "Train_loss : 0.015653869929782887\n",
      "Valid_loss : 0.04224769232262458\n",
      "Accuracy of the network on the 5138 test images: 99 %\n",
      "Train_loss : 0.011198508810806782\n",
      "Valid_loss : 0.05160614762765666\n",
      "Accuracy of the network on the 5138 test images: 98 %\n"
     ]
    }
   ],
   "source": [
    "train_loss = []\n",
    "valid_loss = []\n",
    "train(model, 100, trainloader, validloader, criterion, optimizer, train_loss, valid_loss)"
   ]
  },
  {
   "cell_type": "code",
   "execution_count": 67,
   "metadata": {},
   "outputs": [],
   "source": [
    "# sabe model\n",
    "checkpoint_dir = './pt-static'\n",
    "os.makedirs(checkpoint_dir, exist_ok=True)\n",
    "pt_path = os.path.join(checkpoint_dir, \"static.pt\")\n",
    "torch.save(model.state_dict(), pt_path)"
   ]
  },
  {
   "cell_type": "code",
   "execution_count": 70,
   "metadata": {},
   "outputs": [
    {
     "data": {
      "image/png": "[encoded data removed]",
      "text/plain": [
       "<Figure size 432x288 with 1 Axes>"
      ]
     },
     "metadata": {
      "needs_background": "light"
     },
     "output_type": "display_data"
    }
   ],
   "source": [
    "# Loss visualization\n",
    "\n",
    "epochs = range(100)\n",
    "plt.plot(epochs, train_loss, label = \"train_loss\")\n",
    "plt.plot(epochs, valid_loss, label = \"valid_loss\")\n",
    "plt.title(\"Loss comparison\")\n",
    "plt.legend()\n",
    "plt.show()\n"
   ]
  }
 ],
 "metadata": {
  "kernelspec": {
   "display_name": "Python 3",
   "language": "python",
   "name": "python3"
  },
  "language_info": {
   "codemirror_mode": {
    "name": "ipython",
    "version": 3
   },
   "file_extension": ".py",
   "mimetype": "text/x-python",
   "name": "python",
   "nbconvert_exporter": "python",
   "pygments_lexer": "ipython3",
   "version": "3.9.6 (tags/v3.9.6:db3ff76, Jun 28 2021, 15:26:21) [MSC v.1929 64 bit (AMD64)]"
  },
  "orig_nbformat": 4,
  "vscode": {
   "interpreter": {
    "hash": "503b0fc736ff0c8cad0d86c8bb33005f9f4587f57eca87c8e8bf5fc89e8574dc"
   }
  }
 },
 "nbformat": 4,
 "nbformat_minor": 2
}
